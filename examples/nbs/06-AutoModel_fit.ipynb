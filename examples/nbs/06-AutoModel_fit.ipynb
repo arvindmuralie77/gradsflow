{
 "cells": [
  {
   "cell_type": "markdown",
   "id": "d2559d19",
   "metadata": {},
   "source": [
    "<!--<badge>--><a href=\"https://colab.research.google.com/github/gradsflow/gradsflow/blob/main/examples/nbs/06-AutoModel_fit.ipynb\" target=\"_parent\"><img src=\"https://colab.research.google.com/assets/colab-badge.svg\" alt=\"Open In Colab\"/></a><!--</badge>-->"
   ]
  },
  {
   "cell_type": "markdown",
   "id": "9905f84a",
   "metadata": {},
   "source": [
    "This example shows how to search hyperparameters for a model with Tuner module."
   ]
  },
  {
   "cell_type": "code",
   "execution_count": null,
   "id": "84a2154b",
   "metadata": {},
   "outputs": [],
   "source": [
    "import os\n",
    "\n",
    "# you can remove this\n",
    "os.chdir(\"../../\")\n",
    "os.environ[\"LOGURU_LEVEL\"] = \"INFO\""
   ]
  },
  {
   "cell_type": "code",
   "execution_count": null,
   "id": "a9b877c6",
   "metadata": {},
   "outputs": [],
   "source": [
    "from gradsflow import Model\n",
    "from gradsflow.tuner.tuner import Tuner"
   ]
  },
  {
   "cell_type": "code",
   "execution_count": null,
   "id": "d2626450",
   "metadata": {},
   "outputs": [],
   "source": [
    "from timm import create_model\n",
    "from ray import tune\n",
    "from gradsflow.data.image import get_fake_data\n",
    "\n",
    "from gradsflow import AutoDataset"
   ]
  },
  {
   "cell_type": "code",
   "execution_count": null,
   "id": "ef5a7fa2",
   "metadata": {},
   "outputs": [],
   "source": [
    "image_size = (64, 64)\n",
    "fake_data = get_fake_data(image_size, num_workers=0)\n",
    "train_ds, train_dl = fake_data.dataset, fake_data.dataloader\n",
    "\n",
    "fake_data = get_fake_data(image_size, num_workers=0)\n",
    "val_ds, val_dl = fake_data.dataset, fake_data.dataloader\n",
    "\n",
    "num_classes = train_ds.num_classes\n",
    "autodataset = AutoDataset(train_dl, val_dl, num_classes=num_classes)"
   ]
  },
  {
   "cell_type": "code",
   "execution_count": null,
   "id": "bb89afec",
   "metadata": {},
   "outputs": [],
   "source": [
    "from gradsflow.tuner.tuner import Tuner\n",
    "from gradsflow.tuner.automodel import AutoModelV2"
   ]
  },
  {
   "cell_type": "markdown",
   "id": "ebc3768c",
   "metadata": {},
   "source": [
    "## Registering hyperparameters\n",
    "\n",
    "Gradsflow AutoModel provides you two main ways to register your hyperparameters.\n",
    "\n",
    "Easiest way is to compile the model and the values will be registered automatically.\n",
    "In this example we will hyperparameter search for ConvNet architecture, optimizer and learning rate."
   ]
  },
  {
   "cell_type": "code",
   "execution_count": null,
   "id": "3b09e63c",
   "metadata": {},
   "outputs": [
    {
     "name": "stderr",
     "output_type": "stream",
     "text": [
      "2021-10-08 23:10:26,751\tINFO services.py:1250 -- View the Ray dashboard at \u001b[1m\u001b[32mhttp://127.0.0.1:8265\u001b[39m\u001b[22m\n"
     ]
    }
   ],
   "source": [
    "tuner = Tuner()\n",
    "\n",
    "\n",
    "cnn1 = create_model(\"resnet18\", pretrained=False, num_classes=num_classes)\n",
    "cnn2 = create_model(\"efficientnet_b0\", pretrained=False, num_classes=num_classes)\n",
    "cnns = tuner.suggest_complex(\"learner\", cnn1, cnn2)"
   ]
  },
  {
   "cell_type": "code",
   "execution_count": null,
   "id": "cbe8a306",
   "metadata": {},
   "outputs": [],
   "source": [
    "model = AutoModelV2(cnns)\n",
    "\n",
    "model.compile(\n",
    "    loss=\"crossentropyloss\",\n",
    "    optimizer=tune.choice((\"adam\", \"sgd\")),\n",
    "    learning_rate=tune.loguniform(1e-5, 1e-3),\n",
    "    metrics=\"accuracy\",\n",
    ")"
   ]
  },
  {
   "cell_type": "code",
   "execution_count": null,
   "id": "1989b470",
   "metadata": {},
   "outputs": [
    {
     "name": "stderr",
     "output_type": "stream",
     "text": [
      "2021-10-08 23:10:28,168\tWARNING function_runner.py:558 -- Function checkpointing is disabled. This may result in unexpected behavior when using checkpointing features or certain schedulers. To enable, set the train function arguments to be `func(config, checkpoint_dir=None)`.\n"
     ]
    },
    {
     "data": {
      "text/html": [
       "== Status ==<br>Memory usage on this node: 10.4/16.0 GiB<br>Using FIFO scheduling algorithm.<br>Resources requested: 0/8 CPUs, 0/0 GPUs, 0.0/5.16 GiB heap, 0.0/2.58 GiB objects<br>Result logdir: /Users/aniket/ray_results/trainable_2021-10-08_23-10-28<br>Number of trials: 1/1 (1 PENDING)<br><table>\n",
       "<thead>\n",
       "<tr><th>Trial name           </th><th>status  </th><th>loc  </th><th style=\"text-align: right;\">  learner</th><th style=\"text-align: right;\">  learning_rate</th><th>optimizer  </th></tr>\n",
       "</thead>\n",
       "<tbody>\n",
       "<tr><td>trainable_d37b0_00000</td><td>PENDING </td><td>     </td><td style=\"text-align: right;\">        0</td><td style=\"text-align: right;\">    1.57275e-05</td><td>sgd        </td></tr>\n",
       "</tbody>\n",
       "</table><br><br>"
      ],
      "text/plain": [
       "<IPython.core.display.HTML object>"
      ]
     },
     "metadata": {},
     "output_type": "display_data"
    },
    {
     "data": {
      "text/html": [
       "== Status ==<br>Memory usage on this node: 10.8/16.0 GiB<br>Using FIFO scheduling algorithm.<br>Resources requested: 1.0/8 CPUs, 0/0 GPUs, 0.0/5.16 GiB heap, 0.0/2.58 GiB objects<br>Result logdir: /Users/aniket/ray_results/trainable_2021-10-08_23-10-28<br>Number of trials: 1/1 (1 RUNNING)<br><table>\n",
       "<thead>\n",
       "<tr><th>Trial name           </th><th>status  </th><th>loc  </th><th style=\"text-align: right;\">  learner</th><th style=\"text-align: right;\">  learning_rate</th><th>optimizer  </th></tr>\n",
       "</thead>\n",
       "<tbody>\n",
       "<tr><td>trainable_d37b0_00000</td><td>RUNNING </td><td>     </td><td style=\"text-align: right;\">        0</td><td style=\"text-align: right;\">    1.57275e-05</td><td>sgd        </td></tr>\n",
       "</tbody>\n",
       "</table><br><br>"
      ],
      "text/plain": [
       "<IPython.core.display.HTML object>"
      ]
     },
     "metadata": {},
     "output_type": "display_data"
    },
    {
     "data": {
      "text/html": [
       "== Status ==<br>Memory usage on this node: 10.7/16.0 GiB<br>Using FIFO scheduling algorithm.<br>Resources requested: 1.0/8 CPUs, 0/0 GPUs, 0.0/5.16 GiB heap, 0.0/2.58 GiB objects<br>Result logdir: /Users/aniket/ray_results/trainable_2021-10-08_23-10-28<br>Number of trials: 1/1 (1 RUNNING)<br><table>\n",
       "<thead>\n",
       "<tr><th>Trial name           </th><th>status  </th><th>loc  </th><th style=\"text-align: right;\">  learner</th><th style=\"text-align: right;\">  learning_rate</th><th>optimizer  </th></tr>\n",
       "</thead>\n",
       "<tbody>\n",
       "<tr><td>trainable_d37b0_00000</td><td>RUNNING </td><td>     </td><td style=\"text-align: right;\">        0</td><td style=\"text-align: right;\">    1.57275e-05</td><td>sgd        </td></tr>\n",
       "</tbody>\n",
       "</table><br><br>"
      ],
      "text/plain": [
       "<IPython.core.display.HTML object>"
      ]
     },
     "metadata": {},
     "output_type": "display_data"
    },
    {
     "data": {
      "text/html": [
       "== Status ==<br>Memory usage on this node: 10.8/16.0 GiB<br>Using FIFO scheduling algorithm.<br>Resources requested: 1.0/8 CPUs, 0/0 GPUs, 0.0/5.16 GiB heap, 0.0/2.58 GiB objects<br>Result logdir: /Users/aniket/ray_results/trainable_2021-10-08_23-10-28<br>Number of trials: 1/1 (1 RUNNING)<br><table>\n",
       "<thead>\n",
       "<tr><th>Trial name           </th><th>status  </th><th>loc  </th><th style=\"text-align: right;\">  learner</th><th style=\"text-align: right;\">  learning_rate</th><th>optimizer  </th></tr>\n",
       "</thead>\n",
       "<tbody>\n",
       "<tr><td>trainable_d37b0_00000</td><td>RUNNING </td><td>     </td><td style=\"text-align: right;\">        0</td><td style=\"text-align: right;\">    1.57275e-05</td><td>sgd        </td></tr>\n",
       "</tbody>\n",
       "</table><br><br>"
      ],
      "text/plain": [
       "<IPython.core.display.HTML object>"
      ]
     },
     "metadata": {},
     "output_type": "display_data"
    },
    {
     "name": "stdout",
     "output_type": "stream",
     "text": [
      "Result for trainable_d37b0_00000:\n",
      "  date: 2021-10-08_23-10-46\n",
      "  done: false\n",
      "  experiment_id: ca54b6cd04ef4c1388cbd87f8b775b8c\n",
      "  hostname: Anikets-Turing-Machine.local\n",
      "  iterations_since_restore: 1\n",
      "  node_ip: 192.168.38.84\n",
      "  pid: 3871\n",
      "  should_checkpoint: true\n",
      "  time_since_restore: 13.018282890319824\n",
      "  time_this_iter_s: 13.018282890319824\n",
      "  time_total_s: 13.018282890319824\n",
      "  timestamp: 1633714846\n",
      "  timesteps_since_restore: 0\n",
      "  train_accuracy: tensor(0.1200)\n",
      "  train_loss: 2.309937852597979\n",
      "  training_iteration: 1\n",
      "  trial_id: d37b0_00000\n",
      "  val_accuracy: tensor(0.1000)\n",
      "  val_loss: 2.297529087043675\n",
      "  \n",
      "Result for trainable_d37b0_00000:\n",
      "  date: 2021-10-08_23-10-46\n",
      "  done: true\n",
      "  experiment_id: ca54b6cd04ef4c1388cbd87f8b775b8c\n",
      "  experiment_tag: 0_learner=0,learning_rate=1.5728e-05,optimizer=sgd\n",
      "  hostname: Anikets-Turing-Machine.local\n",
      "  iterations_since_restore: 1\n",
      "  node_ip: 192.168.38.84\n",
      "  pid: 3871\n",
      "  should_checkpoint: true\n",
      "  time_since_restore: 13.018282890319824\n",
      "  time_this_iter_s: 13.018282890319824\n",
      "  time_total_s: 13.018282890319824\n",
      "  timestamp: 1633714846\n",
      "  timesteps_since_restore: 0\n",
      "  train_accuracy: tensor(0.1200)\n",
      "  train_loss: 2.309937852597979\n",
      "  training_iteration: 1\n",
      "  trial_id: d37b0_00000\n",
      "  val_accuracy: tensor(0.1000)\n",
      "  val_loss: 2.297529087043675\n",
      "  \n"
     ]
    },
    {
     "data": {
      "text/html": [
       "== Status ==<br>Memory usage on this node: 10.8/16.0 GiB<br>Using FIFO scheduling algorithm.<br>Resources requested: 0/8 CPUs, 0/0 GPUs, 0.0/5.16 GiB heap, 0.0/2.58 GiB objects<br>Current best trial: d37b0_00000 with train_loss=2.309937852597979 and parameters={'learner': 0, 'optimizer': 'sgd', 'learning_rate': 1.5727544813565454e-05}<br>Result logdir: /Users/aniket/ray_results/trainable_2021-10-08_23-10-28<br>Number of trials: 1/1 (1 TERMINATED)<br><table>\n",
       "<thead>\n",
       "<tr><th>Trial name           </th><th>status    </th><th>loc  </th><th style=\"text-align: right;\">  learner</th><th style=\"text-align: right;\">  learning_rate</th><th>optimizer  </th><th style=\"text-align: right;\">  iter</th><th style=\"text-align: right;\">  total time (s)</th><th style=\"text-align: right;\">  val_loss</th><th style=\"text-align: right;\">  train_loss</th></tr>\n",
       "</thead>\n",
       "<tbody>\n",
       "<tr><td>trainable_d37b0_00000</td><td>TERMINATED</td><td>     </td><td style=\"text-align: right;\">        0</td><td style=\"text-align: right;\">    1.57275e-05</td><td>sgd        </td><td style=\"text-align: right;\">     1</td><td style=\"text-align: right;\">         13.0183</td><td style=\"text-align: right;\">   2.29753</td><td style=\"text-align: right;\">     2.30994</td></tr>\n",
       "</tbody>\n",
       "</table><br><br>"
      ],
      "text/plain": [
       "<IPython.core.display.HTML object>"
      ]
     },
     "metadata": {},
     "output_type": "display_data"
    },
    {
     "name": "stderr",
     "output_type": "stream",
     "text": [
      "2021-10-08 23:10:46,283\tINFO tune.py:617 -- Total run time: 18.12 seconds (17.96 seconds for the tuning loop).\n",
      "2021-10-08 23:10:46.296 | INFO     | gradsflow.tuner.automodel:hp_tune:148 - 🎉 Best HyperParameters found: {'learner': 0, 'optimizer': 'sgd', 'learning_rate': 1.5727544813565454e-05}\n"
     ]
    }
   ],
   "source": [
    "model.hp_tune(tuner, autodataset, epochs=1)"
   ]
  },
  {
   "cell_type": "markdown",
   "id": "ace88afc",
   "metadata": {},
   "source": [
    "### The second way to register hyperparameters is to use Tuner module."
   ]
  },
  {
   "cell_type": "code",
   "execution_count": null,
   "id": "96fc8187",
   "metadata": {},
   "outputs": [],
   "source": [
    "tuner = Tuner()\n",
    "\n",
    "\n",
    "cnn1 = create_model(\"resnet18\", pretrained=False, num_classes=num_classes)\n",
    "cnn2 = create_model(\"efficientnet_b0\", pretrained=False, num_classes=num_classes)\n",
    "cnns = tuner.suggest_complex(\"learner\", cnn1, cnn2)"
   ]
  },
  {
   "cell_type": "code",
   "execution_count": null,
   "id": "a917d84c",
   "metadata": {},
   "outputs": [],
   "source": [
    "tuner.choice(\"optimizer\", \"adam\", \"sgd\")\n",
    "tuner.loguniform(\"learning_rate\", 1e-5, 1e-3)\n",
    "tuner.scalar(\"loss\", \"crossentropyloss\")"
   ]
  },
  {
   "cell_type": "code",
   "execution_count": null,
   "id": "17744386",
   "metadata": {},
   "outputs": [
    {
     "data": {
      "text/html": [
       "== Status ==<br>Memory usage on this node: 10.6/16.0 GiB<br>Using FIFO scheduling algorithm.<br>Resources requested: 0/8 CPUs, 0/0 GPUs, 0.0/5.16 GiB heap, 0.0/2.58 GiB objects<br>Result logdir: /Users/aniket/ray_results/trainable_2021-10-08_23-10-46<br>Number of trials: 1/1 (1 PENDING)<br><table>\n",
       "<thead>\n",
       "<tr><th>Trial name           </th><th>status  </th><th>loc  </th><th style=\"text-align: right;\">  learner</th><th style=\"text-align: right;\">  learning_rate</th><th>optimizer  </th></tr>\n",
       "</thead>\n",
       "<tbody>\n",
       "<tr><td>trainable_de902_00000</td><td>PENDING </td><td>     </td><td style=\"text-align: right;\">        0</td><td style=\"text-align: right;\">    0.000854305</td><td>sgd        </td></tr>\n",
       "</tbody>\n",
       "</table><br><br>"
      ],
      "text/plain": [
       "<IPython.core.display.HTML object>"
      ]
     },
     "metadata": {},
     "output_type": "display_data"
    },
    {
     "data": {
      "text/html": [
       "== Status ==<br>Memory usage on this node: 10.8/16.0 GiB<br>Using FIFO scheduling algorithm.<br>Resources requested: 1.0/8 CPUs, 0/0 GPUs, 0.0/5.16 GiB heap, 0.0/2.58 GiB objects<br>Result logdir: /Users/aniket/ray_results/trainable_2021-10-08_23-10-46<br>Number of trials: 1/1 (1 RUNNING)<br><table>\n",
       "<thead>\n",
       "<tr><th>Trial name           </th><th>status  </th><th>loc  </th><th style=\"text-align: right;\">  learner</th><th style=\"text-align: right;\">  learning_rate</th><th>optimizer  </th></tr>\n",
       "</thead>\n",
       "<tbody>\n",
       "<tr><td>trainable_de902_00000</td><td>RUNNING </td><td>     </td><td style=\"text-align: right;\">        0</td><td style=\"text-align: right;\">    0.000854305</td><td>sgd        </td></tr>\n",
       "</tbody>\n",
       "</table><br><br>"
      ],
      "text/plain": [
       "<IPython.core.display.HTML object>"
      ]
     },
     "metadata": {},
     "output_type": "display_data"
    },
    {
     "data": {
      "text/html": [
       "== Status ==<br>Memory usage on this node: 10.7/16.0 GiB<br>Using FIFO scheduling algorithm.<br>Resources requested: 1.0/8 CPUs, 0/0 GPUs, 0.0/5.16 GiB heap, 0.0/2.58 GiB objects<br>Result logdir: /Users/aniket/ray_results/trainable_2021-10-08_23-10-46<br>Number of trials: 1/1 (1 RUNNING)<br><table>\n",
       "<thead>\n",
       "<tr><th>Trial name           </th><th>status  </th><th>loc  </th><th style=\"text-align: right;\">  learner</th><th style=\"text-align: right;\">  learning_rate</th><th>optimizer  </th></tr>\n",
       "</thead>\n",
       "<tbody>\n",
       "<tr><td>trainable_de902_00000</td><td>RUNNING </td><td>     </td><td style=\"text-align: right;\">        0</td><td style=\"text-align: right;\">    0.000854305</td><td>sgd        </td></tr>\n",
       "</tbody>\n",
       "</table><br><br>"
      ],
      "text/plain": [
       "<IPython.core.display.HTML object>"
      ]
     },
     "metadata": {},
     "output_type": "display_data"
    },
    {
     "data": {
      "text/html": [
       "== Status ==<br>Memory usage on this node: 10.6/16.0 GiB<br>Using FIFO scheduling algorithm.<br>Resources requested: 1.0/8 CPUs, 0/0 GPUs, 0.0/5.16 GiB heap, 0.0/2.58 GiB objects<br>Result logdir: /Users/aniket/ray_results/trainable_2021-10-08_23-10-46<br>Number of trials: 1/1 (1 RUNNING)<br><table>\n",
       "<thead>\n",
       "<tr><th>Trial name           </th><th>status  </th><th>loc  </th><th style=\"text-align: right;\">  learner</th><th style=\"text-align: right;\">  learning_rate</th><th>optimizer  </th></tr>\n",
       "</thead>\n",
       "<tbody>\n",
       "<tr><td>trainable_de902_00000</td><td>RUNNING </td><td>     </td><td style=\"text-align: right;\">        0</td><td style=\"text-align: right;\">    0.000854305</td><td>sgd        </td></tr>\n",
       "</tbody>\n",
       "</table><br><br>"
      ],
      "text/plain": [
       "<IPython.core.display.HTML object>"
      ]
     },
     "metadata": {},
     "output_type": "display_data"
    },
    {
     "name": "stdout",
     "output_type": "stream",
     "text": [
      "Result for trainable_de902_00000:\n",
      "  date: 2021-10-08_23-11-04\n",
      "  done: false\n",
      "  experiment_id: 912d8ca54ef344f1bc97f90d7ac37b9a\n",
      "  hostname: Anikets-Turing-Machine.local\n",
      "  iterations_since_restore: 1\n",
      "  node_ip: 192.168.38.84\n",
      "  pid: 3885\n",
      "  should_checkpoint: true\n",
      "  time_since_restore: 11.700548887252808\n",
      "  time_this_iter_s: 11.700548887252808\n",
      "  time_total_s: 11.700548887252808\n",
      "  timestamp: 1633714864\n",
      "  timesteps_since_restore: 0\n",
      "  train_loss: 2.3229162955051827\n",
      "  training_iteration: 1\n",
      "  trial_id: de902_00000\n",
      "  val_loss: 2.3163452613122093\n",
      "  \n",
      "Result for trainable_de902_00000:\n",
      "  date: 2021-10-08_23-11-04\n",
      "  done: true\n",
      "  experiment_id: 912d8ca54ef344f1bc97f90d7ac37b9a\n",
      "  experiment_tag: 0_learner=0,learning_rate=0.00085431,optimizer=sgd\n",
      "  hostname: Anikets-Turing-Machine.local\n",
      "  iterations_since_restore: 1\n",
      "  node_ip: 192.168.38.84\n",
      "  pid: 3885\n",
      "  should_checkpoint: true\n",
      "  time_since_restore: 11.700548887252808\n",
      "  time_this_iter_s: 11.700548887252808\n",
      "  time_total_s: 11.700548887252808\n",
      "  timestamp: 1633714864\n",
      "  timesteps_since_restore: 0\n",
      "  train_loss: 2.3229162955051827\n",
      "  training_iteration: 1\n",
      "  trial_id: de902_00000\n",
      "  val_loss: 2.3163452613122093\n",
      "  \n"
     ]
    },
    {
     "data": {
      "text/html": [
       "== Status ==<br>Memory usage on this node: 10.7/16.0 GiB<br>Using FIFO scheduling algorithm.<br>Resources requested: 0/8 CPUs, 0/0 GPUs, 0.0/5.16 GiB heap, 0.0/2.58 GiB objects<br>Current best trial: de902_00000 with train_loss=2.3229162955051827 and parameters={'learner': 0, 'optimizer': 'sgd', 'learning_rate': 0.0008543052642522848, 'loss': 'crossentropyloss'}<br>Result logdir: /Users/aniket/ray_results/trainable_2021-10-08_23-10-46<br>Number of trials: 1/1 (1 TERMINATED)<br><table>\n",
       "<thead>\n",
       "<tr><th>Trial name           </th><th>status    </th><th>loc  </th><th style=\"text-align: right;\">  learner</th><th style=\"text-align: right;\">  learning_rate</th><th>optimizer  </th><th style=\"text-align: right;\">  iter</th><th style=\"text-align: right;\">  total time (s)</th><th style=\"text-align: right;\">  val_loss</th><th style=\"text-align: right;\">  train_loss</th></tr>\n",
       "</thead>\n",
       "<tbody>\n",
       "<tr><td>trainable_de902_00000</td><td>TERMINATED</td><td>     </td><td style=\"text-align: right;\">        0</td><td style=\"text-align: right;\">    0.000854305</td><td>sgd        </td><td style=\"text-align: right;\">     1</td><td style=\"text-align: right;\">         11.7005</td><td style=\"text-align: right;\">   2.31635</td><td style=\"text-align: right;\">     2.32292</td></tr>\n",
       "</tbody>\n",
       "</table><br><br>"
      ],
      "text/plain": [
       "<IPython.core.display.HTML object>"
      ]
     },
     "metadata": {},
     "output_type": "display_data"
    },
    {
     "name": "stderr",
     "output_type": "stream",
     "text": [
      "2021-10-08 23:11:04,392\tINFO tune.py:617 -- Total run time: 17.63 seconds (17.51 seconds for the tuning loop).\n",
      "2021-10-08 23:11:04.400 | INFO     | gradsflow.tuner.automodel:hp_tune:148 - 🎉 Best HyperParameters found: {'learner': 0, 'optimizer': 'sgd', 'learning_rate': 0.0008543052642522848, 'loss': 'crossentropyloss'}\n"
     ]
    }
   ],
   "source": [
    "model = AutoModelV2(cnns)\n",
    "model.hp_tune(tuner, autodataset, epochs=1)"
   ]
  }
 ],
 "metadata": {
  "kernelspec": {
   "display_name": "Python 3 (ipykernel)",
   "language": "python",
   "name": "python3"
  },
  "language_info": {
   "codemirror_mode": {
    "name": "ipython",
    "version": 3
   },
   "file_extension": ".py",
   "mimetype": "text/x-python",
   "name": "python",
   "nbconvert_exporter": "python",
   "pygments_lexer": "ipython3",
   "version": "3.8.11"
  },
  "toc": {
   "base_numbering": 1,
   "nav_menu": {},
   "number_sections": true,
   "sideBar": true,
   "skip_h1_title": false,
   "title_cell": "Table of Contents",
   "title_sidebar": "Contents",
   "toc_cell": false,
   "toc_position": {},
   "toc_section_display": true,
   "toc_window_display": false
  }
 },
 "nbformat": 4,
 "nbformat_minor": 5
}
